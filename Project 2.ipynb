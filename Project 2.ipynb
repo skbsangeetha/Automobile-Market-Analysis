{
 "cells": [
  {
   "cell_type": "markdown",
   "metadata": {},
   "source": [
    "# Car Price Analysis"
   ]
  },
  {
   "cell_type": "code",
   "execution_count": 1,
   "metadata": {
    "execution": {
     "iopub.execute_input": "2023-02-09T15:47:41.415787Z",
     "iopub.status.busy": "2023-02-09T15:47:41.414842Z",
     "iopub.status.idle": "2023-02-09T15:47:42.412373Z",
     "shell.execute_reply": "2023-02-09T15:47:42.411113Z",
     "shell.execute_reply.started": "2023-02-09T15:47:41.415645Z"
    }
   },
   "outputs": [],
   "source": [
    "#importing Libraries\n",
    "import pandas as pd\n",
    "import numpy as np\n",
    "import matplotlib.pyplot as plt\n",
    "import seaborn as sns\n",
    "%matplotlib inline\n",
    "import warnings\n",
    "warnings.filterwarnings('ignore')"
   ]
  },
  {
   "cell_type": "code",
   "execution_count": 2,
   "metadata": {
    "execution": {
     "iopub.execute_input": "2023-02-09T16:01:20.823613Z",
     "iopub.status.busy": "2023-02-09T16:01:20.822563Z",
     "iopub.status.idle": "2023-02-09T16:01:20.844861Z",
     "shell.execute_reply": "2023-02-09T16:01:20.843639Z",
     "shell.execute_reply.started": "2023-02-09T16:01:20.823576Z"
    }
   },
   "outputs": [],
   "source": [
    "#loading our dataset\n",
    "data1 = pd.read_csv('car data.csv')"
   ]
  },
  {
   "cell_type": "markdown",
   "metadata": {},
   "source": [
    "# Data Analysis"
   ]
  },
  {
   "cell_type": "code",
   "execution_count": 3,
   "metadata": {
    "execution": {
     "iopub.execute_input": "2023-02-09T16:01:38.685863Z",
     "iopub.status.busy": "2023-02-09T16:01:38.685229Z",
     "iopub.status.idle": "2023-02-09T16:01:38.691182Z",
     "shell.execute_reply": "2023-02-09T16:01:38.690207Z",
     "shell.execute_reply.started": "2023-02-09T16:01:38.685813Z"
    }
   },
   "outputs": [],
   "source": [
    "pd.set_option('display.max_columns',None)\n",
    "pd.set_option('display.max_rows',None)"
   ]
  },
  {
   "cell_type": "code",
   "execution_count": 4,
   "metadata": {
    "execution": {
     "iopub.execute_input": "2023-02-09T16:01:53.659855Z",
     "iopub.status.busy": "2023-02-09T16:01:53.659465Z",
     "iopub.status.idle": "2023-02-09T16:01:53.668927Z",
     "shell.execute_reply": "2023-02-09T16:01:53.667781Z",
     "shell.execute_reply.started": "2023-02-09T16:01:53.659823Z"
    }
   },
   "outputs": [
    {
     "data": {
      "text/plain": [
       "(301, 9)"
      ]
     },
     "execution_count": 4,
     "metadata": {},
     "output_type": "execute_result"
    }
   ],
   "source": [
    "data1.shape"
   ]
  },
  {
   "cell_type": "code",
   "execution_count": 5,
   "metadata": {
    "execution": {
     "iopub.execute_input": "2023-02-09T16:02:12.784359Z",
     "iopub.status.busy": "2023-02-09T16:02:12.783560Z",
     "iopub.status.idle": "2023-02-09T16:02:12.821883Z",
     "shell.execute_reply": "2023-02-09T16:02:12.820752Z",
     "shell.execute_reply.started": "2023-02-09T16:02:12.784314Z"
    }
   },
   "outputs": [
    {
     "data": {
      "text/html": [
       "<div>\n",
       "<style scoped>\n",
       "    .dataframe tbody tr th:only-of-type {\n",
       "        vertical-align: middle;\n",
       "    }\n",
       "\n",
       "    .dataframe tbody tr th {\n",
       "        vertical-align: top;\n",
       "    }\n",
       "\n",
       "    .dataframe thead th {\n",
       "        text-align: right;\n",
       "    }\n",
       "</style>\n",
       "<table border=\"1\" class=\"dataframe\">\n",
       "  <thead>\n",
       "    <tr style=\"text-align: right;\">\n",
       "      <th></th>\n",
       "      <th>Car_Name</th>\n",
       "      <th>Year</th>\n",
       "      <th>Selling_Price</th>\n",
       "      <th>Present_Price</th>\n",
       "      <th>Driven_kms</th>\n",
       "      <th>Fuel_Type</th>\n",
       "      <th>Selling_type</th>\n",
       "      <th>Transmission</th>\n",
       "      <th>Owner</th>\n",
       "    </tr>\n",
       "  </thead>\n",
       "  <tbody>\n",
       "    <tr>\n",
       "      <th>94</th>\n",
       "      <td>corolla altis</td>\n",
       "      <td>2008</td>\n",
       "      <td>4.00</td>\n",
       "      <td>22.78</td>\n",
       "      <td>89000</td>\n",
       "      <td>Petrol</td>\n",
       "      <td>Dealer</td>\n",
       "      <td>Automatic</td>\n",
       "      <td>0</td>\n",
       "    </tr>\n",
       "    <tr>\n",
       "      <th>288</th>\n",
       "      <td>city</td>\n",
       "      <td>2015</td>\n",
       "      <td>8.40</td>\n",
       "      <td>13.60</td>\n",
       "      <td>34000</td>\n",
       "      <td>Petrol</td>\n",
       "      <td>Dealer</td>\n",
       "      <td>Manual</td>\n",
       "      <td>0</td>\n",
       "    </tr>\n",
       "    <tr>\n",
       "      <th>287</th>\n",
       "      <td>amaze</td>\n",
       "      <td>2015</td>\n",
       "      <td>5.75</td>\n",
       "      <td>7.50</td>\n",
       "      <td>44000</td>\n",
       "      <td>Petrol</td>\n",
       "      <td>Dealer</td>\n",
       "      <td>Automatic</td>\n",
       "      <td>0</td>\n",
       "    </tr>\n",
       "    <tr>\n",
       "      <th>158</th>\n",
       "      <td>Honda Dream Yuga</td>\n",
       "      <td>2017</td>\n",
       "      <td>0.48</td>\n",
       "      <td>0.54</td>\n",
       "      <td>8600</td>\n",
       "      <td>Petrol</td>\n",
       "      <td>Individual</td>\n",
       "      <td>Manual</td>\n",
       "      <td>0</td>\n",
       "    </tr>\n",
       "    <tr>\n",
       "      <th>209</th>\n",
       "      <td>grand i10</td>\n",
       "      <td>2015</td>\n",
       "      <td>4.85</td>\n",
       "      <td>5.70</td>\n",
       "      <td>21125</td>\n",
       "      <td>Diesel</td>\n",
       "      <td>Dealer</td>\n",
       "      <td>Manual</td>\n",
       "      <td>0</td>\n",
       "    </tr>\n",
       "  </tbody>\n",
       "</table>\n",
       "</div>"
      ],
      "text/plain": [
       "              Car_Name  Year  Selling_Price  Present_Price  Driven_kms  \\\n",
       "94       corolla altis  2008           4.00          22.78       89000   \n",
       "288               city  2015           8.40          13.60       34000   \n",
       "287              amaze  2015           5.75           7.50       44000   \n",
       "158  Honda Dream Yuga   2017           0.48           0.54        8600   \n",
       "209          grand i10  2015           4.85           5.70       21125   \n",
       "\n",
       "    Fuel_Type Selling_type Transmission  Owner  \n",
       "94     Petrol       Dealer    Automatic      0  \n",
       "288    Petrol       Dealer       Manual      0  \n",
       "287    Petrol       Dealer    Automatic      0  \n",
       "158    Petrol   Individual       Manual      0  \n",
       "209    Diesel       Dealer       Manual      0  "
      ]
     },
     "execution_count": 5,
     "metadata": {},
     "output_type": "execute_result"
    }
   ],
   "source": [
    "# Display random 5 records\n",
    "data1.sample(5)"
   ]
  },
  {
   "cell_type": "code",
   "execution_count": 6,
   "metadata": {
    "execution": {
     "iopub.execute_input": "2023-02-09T16:04:29.801903Z",
     "iopub.status.busy": "2023-02-09T16:04:29.801485Z",
     "iopub.status.idle": "2023-02-09T16:04:29.819722Z",
     "shell.execute_reply": "2023-02-09T16:04:29.818912Z",
     "shell.execute_reply.started": "2023-02-09T16:04:29.801870Z"
    }
   },
   "outputs": [
    {
     "data": {
      "text/html": [
       "<div>\n",
       "<style scoped>\n",
       "    .dataframe tbody tr th:only-of-type {\n",
       "        vertical-align: middle;\n",
       "    }\n",
       "\n",
       "    .dataframe tbody tr th {\n",
       "        vertical-align: top;\n",
       "    }\n",
       "\n",
       "    .dataframe thead th {\n",
       "        text-align: right;\n",
       "    }\n",
       "</style>\n",
       "<table border=\"1\" class=\"dataframe\">\n",
       "  <thead>\n",
       "    <tr style=\"text-align: right;\">\n",
       "      <th></th>\n",
       "      <th>Car_Name</th>\n",
       "      <th>Year</th>\n",
       "      <th>Selling_Price</th>\n",
       "      <th>Present_Price</th>\n",
       "      <th>Driven_kms</th>\n",
       "      <th>Fuel_Type</th>\n",
       "      <th>Selling_type</th>\n",
       "      <th>Transmission</th>\n",
       "      <th>Owner</th>\n",
       "    </tr>\n",
       "  </thead>\n",
       "  <tbody>\n",
       "    <tr>\n",
       "      <th>17</th>\n",
       "      <td>ertiga</td>\n",
       "      <td>2016</td>\n",
       "      <td>7.75</td>\n",
       "      <td>10.79</td>\n",
       "      <td>43000</td>\n",
       "      <td>Diesel</td>\n",
       "      <td>Dealer</td>\n",
       "      <td>Manual</td>\n",
       "      <td>0</td>\n",
       "    </tr>\n",
       "    <tr>\n",
       "      <th>93</th>\n",
       "      <td>fortuner</td>\n",
       "      <td>2015</td>\n",
       "      <td>23.00</td>\n",
       "      <td>30.61</td>\n",
       "      <td>40000</td>\n",
       "      <td>Diesel</td>\n",
       "      <td>Dealer</td>\n",
       "      <td>Automatic</td>\n",
       "      <td>0</td>\n",
       "    </tr>\n",
       "  </tbody>\n",
       "</table>\n",
       "</div>"
      ],
      "text/plain": [
       "    Car_Name  Year  Selling_Price  Present_Price  Driven_kms Fuel_Type  \\\n",
       "17    ertiga  2016           7.75          10.79       43000    Diesel   \n",
       "93  fortuner  2015          23.00          30.61       40000    Diesel   \n",
       "\n",
       "   Selling_type Transmission  Owner  \n",
       "17       Dealer       Manual      0  \n",
       "93       Dealer    Automatic      0  "
      ]
     },
     "execution_count": 6,
     "metadata": {},
     "output_type": "execute_result"
    }
   ],
   "source": [
    "# Removing Duplicates\n",
    "data1[data1.duplicated()]"
   ]
  },
  {
   "cell_type": "code",
   "execution_count": 7,
   "metadata": {
    "execution": {
     "iopub.execute_input": "2023-02-09T16:05:21.990935Z",
     "iopub.status.busy": "2023-02-09T16:05:21.989754Z",
     "iopub.status.idle": "2023-02-09T16:05:22.011761Z",
     "shell.execute_reply": "2023-02-09T16:05:22.010439Z",
     "shell.execute_reply.started": "2023-02-09T16:05:21.990874Z"
    }
   },
   "outputs": [
    {
     "name": "stdout",
     "output_type": "stream",
     "text": [
      "<class 'pandas.core.frame.DataFrame'>\n",
      "RangeIndex: 301 entries, 0 to 300\n",
      "Data columns (total 9 columns):\n",
      " #   Column         Non-Null Count  Dtype  \n",
      "---  ------         --------------  -----  \n",
      " 0   Car_Name       301 non-null    object \n",
      " 1   Year           301 non-null    int64  \n",
      " 2   Selling_Price  301 non-null    float64\n",
      " 3   Present_Price  301 non-null    float64\n",
      " 4   Driven_kms     301 non-null    int64  \n",
      " 5   Fuel_Type      301 non-null    object \n",
      " 6   Selling_type   301 non-null    object \n",
      " 7   Transmission   301 non-null    object \n",
      " 8   Owner          301 non-null    int64  \n",
      "dtypes: float64(2), int64(3), object(4)\n",
      "memory usage: 21.3+ KB\n"
     ]
    }
   ],
   "source": [
    "# Dataset information\n",
    "data1.info()"
   ]
  },
  {
   "cell_type": "code",
   "execution_count": 8,
   "metadata": {
    "execution": {
     "iopub.execute_input": "2023-02-09T16:05:43.654389Z",
     "iopub.status.busy": "2023-02-09T16:05:43.653952Z",
     "iopub.status.idle": "2023-02-09T16:05:43.666339Z",
     "shell.execute_reply": "2023-02-09T16:05:43.665050Z",
     "shell.execute_reply.started": "2023-02-09T16:05:43.654353Z"
    }
   },
   "outputs": [
    {
     "data": {
      "text/plain": [
       "Car_Name         0\n",
       "Year             0\n",
       "Selling_Price    0\n",
       "Present_Price    0\n",
       "Driven_kms       0\n",
       "Fuel_Type        0\n",
       "Selling_type     0\n",
       "Transmission     0\n",
       "Owner            0\n",
       "dtype: int64"
      ]
     },
     "execution_count": 8,
     "metadata": {},
     "output_type": "execute_result"
    }
   ],
   "source": [
    "# Checking Null values\n",
    "data1.isnull().sum()"
   ]
  },
  {
   "cell_type": "code",
   "execution_count": 9,
   "metadata": {
    "execution": {
     "iopub.execute_input": "2023-02-09T16:06:03.694547Z",
     "iopub.status.busy": "2023-02-09T16:06:03.693948Z",
     "iopub.status.idle": "2023-02-09T16:06:03.752526Z",
     "shell.execute_reply": "2023-02-09T16:06:03.751430Z",
     "shell.execute_reply.started": "2023-02-09T16:06:03.694515Z"
    }
   },
   "outputs": [
    {
     "data": {
      "text/html": [
       "<div>\n",
       "<style scoped>\n",
       "    .dataframe tbody tr th:only-of-type {\n",
       "        vertical-align: middle;\n",
       "    }\n",
       "\n",
       "    .dataframe tbody tr th {\n",
       "        vertical-align: top;\n",
       "    }\n",
       "\n",
       "    .dataframe thead th {\n",
       "        text-align: right;\n",
       "    }\n",
       "</style>\n",
       "<table border=\"1\" class=\"dataframe\">\n",
       "  <thead>\n",
       "    <tr style=\"text-align: right;\">\n",
       "      <th></th>\n",
       "      <th>Year</th>\n",
       "      <th>Selling_Price</th>\n",
       "      <th>Present_Price</th>\n",
       "      <th>Driven_kms</th>\n",
       "      <th>Owner</th>\n",
       "    </tr>\n",
       "  </thead>\n",
       "  <tbody>\n",
       "    <tr>\n",
       "      <th>count</th>\n",
       "      <td>301.000000</td>\n",
       "      <td>301.000000</td>\n",
       "      <td>301.000000</td>\n",
       "      <td>301.000000</td>\n",
       "      <td>301.000000</td>\n",
       "    </tr>\n",
       "    <tr>\n",
       "      <th>mean</th>\n",
       "      <td>2013.627907</td>\n",
       "      <td>4.661296</td>\n",
       "      <td>7.628472</td>\n",
       "      <td>36947.205980</td>\n",
       "      <td>0.043189</td>\n",
       "    </tr>\n",
       "    <tr>\n",
       "      <th>std</th>\n",
       "      <td>2.891554</td>\n",
       "      <td>5.082812</td>\n",
       "      <td>8.642584</td>\n",
       "      <td>38886.883882</td>\n",
       "      <td>0.247915</td>\n",
       "    </tr>\n",
       "    <tr>\n",
       "      <th>min</th>\n",
       "      <td>2003.000000</td>\n",
       "      <td>0.100000</td>\n",
       "      <td>0.320000</td>\n",
       "      <td>500.000000</td>\n",
       "      <td>0.000000</td>\n",
       "    </tr>\n",
       "    <tr>\n",
       "      <th>25%</th>\n",
       "      <td>2012.000000</td>\n",
       "      <td>0.900000</td>\n",
       "      <td>1.200000</td>\n",
       "      <td>15000.000000</td>\n",
       "      <td>0.000000</td>\n",
       "    </tr>\n",
       "    <tr>\n",
       "      <th>50%</th>\n",
       "      <td>2014.000000</td>\n",
       "      <td>3.600000</td>\n",
       "      <td>6.400000</td>\n",
       "      <td>32000.000000</td>\n",
       "      <td>0.000000</td>\n",
       "    </tr>\n",
       "    <tr>\n",
       "      <th>75%</th>\n",
       "      <td>2016.000000</td>\n",
       "      <td>6.000000</td>\n",
       "      <td>9.900000</td>\n",
       "      <td>48767.000000</td>\n",
       "      <td>0.000000</td>\n",
       "    </tr>\n",
       "    <tr>\n",
       "      <th>max</th>\n",
       "      <td>2018.000000</td>\n",
       "      <td>35.000000</td>\n",
       "      <td>92.600000</td>\n",
       "      <td>500000.000000</td>\n",
       "      <td>3.000000</td>\n",
       "    </tr>\n",
       "  </tbody>\n",
       "</table>\n",
       "</div>"
      ],
      "text/plain": [
       "              Year  Selling_Price  Present_Price     Driven_kms       Owner\n",
       "count   301.000000     301.000000     301.000000     301.000000  301.000000\n",
       "mean   2013.627907       4.661296       7.628472   36947.205980    0.043189\n",
       "std       2.891554       5.082812       8.642584   38886.883882    0.247915\n",
       "min    2003.000000       0.100000       0.320000     500.000000    0.000000\n",
       "25%    2012.000000       0.900000       1.200000   15000.000000    0.000000\n",
       "50%    2014.000000       3.600000       6.400000   32000.000000    0.000000\n",
       "75%    2016.000000       6.000000       9.900000   48767.000000    0.000000\n",
       "max    2018.000000      35.000000      92.600000  500000.000000    3.000000"
      ]
     },
     "execution_count": 9,
     "metadata": {},
     "output_type": "execute_result"
    }
   ],
   "source": [
    "# Description of Data\n",
    "data1.describe()"
   ]
  },
  {
   "cell_type": "code",
   "execution_count": 10,
   "metadata": {
    "execution": {
     "iopub.execute_input": "2023-02-09T16:06:47.926623Z",
     "iopub.status.busy": "2023-02-09T16:06:47.925625Z",
     "iopub.status.idle": "2023-02-09T16:06:47.954939Z",
     "shell.execute_reply": "2023-02-09T16:06:47.953795Z",
     "shell.execute_reply.started": "2023-02-09T16:06:47.926584Z"
    }
   },
   "outputs": [
    {
     "data": {
      "text/html": [
       "<div>\n",
       "<style scoped>\n",
       "    .dataframe tbody tr th:only-of-type {\n",
       "        vertical-align: middle;\n",
       "    }\n",
       "\n",
       "    .dataframe tbody tr th {\n",
       "        vertical-align: top;\n",
       "    }\n",
       "\n",
       "    .dataframe thead th {\n",
       "        text-align: right;\n",
       "    }\n",
       "</style>\n",
       "<table border=\"1\" class=\"dataframe\">\n",
       "  <thead>\n",
       "    <tr style=\"text-align: right;\">\n",
       "      <th></th>\n",
       "      <th>Car_Name</th>\n",
       "      <th>Year</th>\n",
       "      <th>Selling_Price</th>\n",
       "      <th>Present_Price</th>\n",
       "      <th>Driven_kms</th>\n",
       "      <th>Fuel_Type</th>\n",
       "      <th>Selling_type</th>\n",
       "      <th>Transmission</th>\n",
       "      <th>Owner</th>\n",
       "    </tr>\n",
       "  </thead>\n",
       "  <tbody>\n",
       "    <tr>\n",
       "      <th>1</th>\n",
       "      <td>sx4</td>\n",
       "      <td>2013</td>\n",
       "      <td>4.75</td>\n",
       "      <td>9.54</td>\n",
       "      <td>43000</td>\n",
       "      <td>Diesel</td>\n",
       "      <td>Dealer</td>\n",
       "      <td>Manual</td>\n",
       "      <td>0</td>\n",
       "    </tr>\n",
       "    <tr>\n",
       "      <th>257</th>\n",
       "      <td>city</td>\n",
       "      <td>2015</td>\n",
       "      <td>8.50</td>\n",
       "      <td>13.60</td>\n",
       "      <td>40324</td>\n",
       "      <td>Petrol</td>\n",
       "      <td>Dealer</td>\n",
       "      <td>Manual</td>\n",
       "      <td>0</td>\n",
       "    </tr>\n",
       "    <tr>\n",
       "      <th>298</th>\n",
       "      <td>city</td>\n",
       "      <td>2009</td>\n",
       "      <td>3.35</td>\n",
       "      <td>11.00</td>\n",
       "      <td>87934</td>\n",
       "      <td>Petrol</td>\n",
       "      <td>Dealer</td>\n",
       "      <td>Manual</td>\n",
       "      <td>0</td>\n",
       "    </tr>\n",
       "    <tr>\n",
       "      <th>152</th>\n",
       "      <td>Bajaj Pulsar NS 200</td>\n",
       "      <td>2012</td>\n",
       "      <td>0.50</td>\n",
       "      <td>0.99</td>\n",
       "      <td>13000</td>\n",
       "      <td>Petrol</td>\n",
       "      <td>Individual</td>\n",
       "      <td>Manual</td>\n",
       "      <td>0</td>\n",
       "    </tr>\n",
       "    <tr>\n",
       "      <th>76</th>\n",
       "      <td>corolla altis</td>\n",
       "      <td>2013</td>\n",
       "      <td>5.50</td>\n",
       "      <td>14.68</td>\n",
       "      <td>72000</td>\n",
       "      <td>Petrol</td>\n",
       "      <td>Dealer</td>\n",
       "      <td>Manual</td>\n",
       "      <td>0</td>\n",
       "    </tr>\n",
       "  </tbody>\n",
       "</table>\n",
       "</div>"
      ],
      "text/plain": [
       "                Car_Name  Year  Selling_Price  Present_Price  Driven_kms  \\\n",
       "1                    sx4  2013           4.75           9.54       43000   \n",
       "257                 city  2015           8.50          13.60       40324   \n",
       "298                 city  2009           3.35          11.00       87934   \n",
       "152  Bajaj Pulsar NS 200  2012           0.50           0.99       13000   \n",
       "76         corolla altis  2013           5.50          14.68       72000   \n",
       "\n",
       "    Fuel_Type Selling_type Transmission  Owner  \n",
       "1      Diesel       Dealer       Manual      0  \n",
       "257    Petrol       Dealer       Manual      0  \n",
       "298    Petrol       Dealer       Manual      0  \n",
       "152    Petrol   Individual       Manual      0  \n",
       "76     Petrol       Dealer       Manual      0  "
      ]
     },
     "execution_count": 10,
     "metadata": {},
     "output_type": "execute_result"
    }
   ],
   "source": [
    "data1.sample(5)"
   ]
  },
  {
   "cell_type": "markdown",
   "metadata": {},
   "source": [
    "# Data Cleaning"
   ]
  },
  {
   "cell_type": "code",
   "execution_count": 11,
   "metadata": {
    "execution": {
     "iopub.execute_input": "2023-02-09T16:08:05.854980Z",
     "iopub.status.busy": "2023-02-09T16:08:05.854538Z",
     "iopub.status.idle": "2023-02-09T16:08:05.862213Z",
     "shell.execute_reply": "2023-02-09T16:08:05.861101Z",
     "shell.execute_reply.started": "2023-02-09T16:08:05.854944Z"
    }
   },
   "outputs": [],
   "source": [
    "# Splitting Column value\n",
    "data1['Company Name']  = data1['Car_Name'].apply(lambda x : x.split()[0])"
   ]
  },
  {
   "cell_type": "code",
   "execution_count": 12,
   "metadata": {
    "execution": {
     "iopub.execute_input": "2023-02-09T16:08:20.087907Z",
     "iopub.status.busy": "2023-02-09T16:08:20.087432Z",
     "iopub.status.idle": "2023-02-09T16:08:20.096295Z",
     "shell.execute_reply": "2023-02-09T16:08:20.094928Z",
     "shell.execute_reply.started": "2023-02-09T16:08:20.087869Z"
    }
   },
   "outputs": [],
   "source": [
    "# Drop Column\n",
    "data1.drop('Car_Name',axis = 1, inplace= True)"
   ]
  },
  {
   "cell_type": "code",
   "execution_count": 13,
   "metadata": {
    "execution": {
     "iopub.execute_input": "2023-02-09T16:08:33.515867Z",
     "iopub.status.busy": "2023-02-09T16:08:33.515088Z",
     "iopub.status.idle": "2023-02-09T16:08:33.543331Z",
     "shell.execute_reply": "2023-02-09T16:08:33.542130Z",
     "shell.execute_reply.started": "2023-02-09T16:08:33.515827Z"
    }
   },
   "outputs": [
    {
     "data": {
      "text/html": [
       "<div>\n",
       "<style scoped>\n",
       "    .dataframe tbody tr th:only-of-type {\n",
       "        vertical-align: middle;\n",
       "    }\n",
       "\n",
       "    .dataframe tbody tr th {\n",
       "        vertical-align: top;\n",
       "    }\n",
       "\n",
       "    .dataframe thead th {\n",
       "        text-align: right;\n",
       "    }\n",
       "</style>\n",
       "<table border=\"1\" class=\"dataframe\">\n",
       "  <thead>\n",
       "    <tr style=\"text-align: right;\">\n",
       "      <th></th>\n",
       "      <th>Year</th>\n",
       "      <th>Selling_Price</th>\n",
       "      <th>Present_Price</th>\n",
       "      <th>Driven_kms</th>\n",
       "      <th>Fuel_Type</th>\n",
       "      <th>Selling_type</th>\n",
       "      <th>Transmission</th>\n",
       "      <th>Owner</th>\n",
       "      <th>Company Name</th>\n",
       "    </tr>\n",
       "  </thead>\n",
       "  <tbody>\n",
       "    <tr>\n",
       "      <th>0</th>\n",
       "      <td>2014</td>\n",
       "      <td>3.35</td>\n",
       "      <td>5.59</td>\n",
       "      <td>27000</td>\n",
       "      <td>Petrol</td>\n",
       "      <td>Dealer</td>\n",
       "      <td>Manual</td>\n",
       "      <td>0</td>\n",
       "      <td>ritz</td>\n",
       "    </tr>\n",
       "    <tr>\n",
       "      <th>1</th>\n",
       "      <td>2013</td>\n",
       "      <td>4.75</td>\n",
       "      <td>9.54</td>\n",
       "      <td>43000</td>\n",
       "      <td>Diesel</td>\n",
       "      <td>Dealer</td>\n",
       "      <td>Manual</td>\n",
       "      <td>0</td>\n",
       "      <td>sx4</td>\n",
       "    </tr>\n",
       "    <tr>\n",
       "      <th>2</th>\n",
       "      <td>2017</td>\n",
       "      <td>7.25</td>\n",
       "      <td>9.85</td>\n",
       "      <td>6900</td>\n",
       "      <td>Petrol</td>\n",
       "      <td>Dealer</td>\n",
       "      <td>Manual</td>\n",
       "      <td>0</td>\n",
       "      <td>ciaz</td>\n",
       "    </tr>\n",
       "    <tr>\n",
       "      <th>3</th>\n",
       "      <td>2011</td>\n",
       "      <td>2.85</td>\n",
       "      <td>4.15</td>\n",
       "      <td>5200</td>\n",
       "      <td>Petrol</td>\n",
       "      <td>Dealer</td>\n",
       "      <td>Manual</td>\n",
       "      <td>0</td>\n",
       "      <td>wagon</td>\n",
       "    </tr>\n",
       "    <tr>\n",
       "      <th>4</th>\n",
       "      <td>2014</td>\n",
       "      <td>4.60</td>\n",
       "      <td>6.87</td>\n",
       "      <td>42450</td>\n",
       "      <td>Diesel</td>\n",
       "      <td>Dealer</td>\n",
       "      <td>Manual</td>\n",
       "      <td>0</td>\n",
       "      <td>swift</td>\n",
       "    </tr>\n",
       "  </tbody>\n",
       "</table>\n",
       "</div>"
      ],
      "text/plain": [
       "   Year  Selling_Price  Present_Price  Driven_kms Fuel_Type Selling_type  \\\n",
       "0  2014           3.35           5.59       27000    Petrol       Dealer   \n",
       "1  2013           4.75           9.54       43000    Diesel       Dealer   \n",
       "2  2017           7.25           9.85        6900    Petrol       Dealer   \n",
       "3  2011           2.85           4.15        5200    Petrol       Dealer   \n",
       "4  2014           4.60           6.87       42450    Diesel       Dealer   \n",
       "\n",
       "  Transmission  Owner Company Name  \n",
       "0       Manual      0         ritz  \n",
       "1       Manual      0          sx4  \n",
       "2       Manual      0         ciaz  \n",
       "3       Manual      0        wagon  \n",
       "4       Manual      0        swift  "
      ]
     },
     "execution_count": 13,
     "metadata": {},
     "output_type": "execute_result"
    }
   ],
   "source": [
    "# Displaying Top 5 Records\n",
    "data1.head()"
   ]
  },
  {
   "cell_type": "code",
   "execution_count": 14,
   "metadata": {
    "execution": {
     "iopub.execute_input": "2023-02-09T16:09:20.159887Z",
     "iopub.status.busy": "2023-02-09T16:09:20.159162Z",
     "iopub.status.idle": "2023-02-09T16:09:20.167012Z",
     "shell.execute_reply": "2023-02-09T16:09:20.165924Z",
     "shell.execute_reply.started": "2023-02-09T16:09:20.159849Z"
    }
   },
   "outputs": [
    {
     "data": {
      "text/plain": [
       "array(['ritz', 'sx4', 'ciaz', 'wagon', 'swift', 'vitara', 's', 'alto',\n",
       "       'ertiga', 'dzire', 'ignis', '800', 'baleno', 'omni', 'fortuner',\n",
       "       'innova', 'corolla', 'etios', 'camry', 'land', 'Royal', 'UM',\n",
       "       'KTM', 'Bajaj', 'Hyosung', 'Mahindra', 'Honda', 'Yamaha', 'TVS',\n",
       "       'Hero', 'Activa', 'Suzuki', 'i20', 'grand', 'i10', 'eon', 'xcent',\n",
       "       'elantra', 'creta', 'verna', 'city', 'brio', 'amaze', 'jazz'],\n",
       "      dtype=object)"
      ]
     },
     "execution_count": 14,
     "metadata": {},
     "output_type": "execute_result"
    }
   ],
   "source": [
    "# Display Distinct Company names\n",
    "data1['Company Name'].unique()"
   ]
  },
  {
   "cell_type": "code",
   "execution_count": 15,
   "metadata": {
    "execution": {
     "iopub.execute_input": "2023-02-09T16:09:27.251815Z",
     "iopub.status.busy": "2023-02-09T16:09:27.250928Z",
     "iopub.status.idle": "2023-02-09T16:09:27.256673Z",
     "shell.execute_reply": "2023-02-09T16:09:27.255623Z",
     "shell.execute_reply.started": "2023-02-09T16:09:27.251778Z"
    }
   },
   "outputs": [],
   "source": [
    "def replace(error,correct):\n",
    "    data1['Company Name'] = data1['Company Name'].replace(to_replace=error,value=correct)"
   ]
  },
  {
   "cell_type": "code",
   "execution_count": 16,
   "metadata": {
    "execution": {
     "iopub.execute_input": "2023-02-09T16:09:48.090193Z",
     "iopub.status.busy": "2023-02-09T16:09:48.089775Z",
     "iopub.status.idle": "2023-02-09T16:09:48.098702Z",
     "shell.execute_reply": "2023-02-09T16:09:48.097435Z",
     "shell.execute_reply.started": "2023-02-09T16:09:48.090160Z"
    }
   },
   "outputs": [],
   "source": [
    "# Replacing error values\n",
    "replace('maxda','mazda')\n",
    "replace('porcshce','porsche')\n",
    "replace('Nissan','nissan')\n",
    "replace('vw','volkswagen')\n",
    "replace('vokswagen','volkswagen')\n",
    "replace('toyouta','toyota')"
   ]
  },
  {
   "cell_type": "code",
   "execution_count": 17,
   "metadata": {
    "execution": {
     "iopub.execute_input": "2023-02-09T16:10:01.356889Z",
     "iopub.status.busy": "2023-02-09T16:10:01.356490Z",
     "iopub.status.idle": "2023-02-09T16:10:01.363647Z",
     "shell.execute_reply": "2023-02-09T16:10:01.362812Z",
     "shell.execute_reply.started": "2023-02-09T16:10:01.356858Z"
    }
   },
   "outputs": [
    {
     "data": {
      "text/plain": [
       "array(['ritz', 'sx4', 'ciaz', 'wagon', 'swift', 'vitara', 's', 'alto',\n",
       "       'ertiga', 'dzire', 'ignis', '800', 'baleno', 'omni', 'fortuner',\n",
       "       'innova', 'corolla', 'etios', 'camry', 'land', 'Royal', 'UM',\n",
       "       'KTM', 'Bajaj', 'Hyosung', 'Mahindra', 'Honda', 'Yamaha', 'TVS',\n",
       "       'Hero', 'Activa', 'Suzuki', 'i20', 'grand', 'i10', 'eon', 'xcent',\n",
       "       'elantra', 'creta', 'verna', 'city', 'brio', 'amaze', 'jazz'],\n",
       "      dtype=object)"
      ]
     },
     "execution_count": 17,
     "metadata": {},
     "output_type": "execute_result"
    }
   ],
   "source": [
    "data1['Company Name'].unique()"
   ]
  },
  {
   "cell_type": "code",
   "execution_count": 18,
   "metadata": {
    "execution": {
     "iopub.execute_input": "2023-02-09T16:11:28.045921Z",
     "iopub.status.busy": "2023-02-09T16:11:28.045520Z",
     "iopub.status.idle": "2023-02-09T16:11:28.053802Z",
     "shell.execute_reply": "2023-02-09T16:11:28.052592Z",
     "shell.execute_reply.started": "2023-02-09T16:11:28.045890Z"
    }
   },
   "outputs": [
    {
     "data": {
      "text/plain": [
       "Index(['Year', 'Selling_Price', 'Present_Price', 'Driven_kms', 'Fuel_Type',\n",
       "       'Selling_type', 'Transmission', 'Owner', 'Company Name'],\n",
       "      dtype='object')"
      ]
     },
     "execution_count": 18,
     "metadata": {},
     "output_type": "execute_result"
    }
   ],
   "source": [
    "data1.columns"
   ]
  },
  {
   "cell_type": "code",
   "execution_count": 19,
   "metadata": {
    "execution": {
     "iopub.execute_input": "2023-02-09T16:11:40.466072Z",
     "iopub.status.busy": "2023-02-09T16:11:40.465389Z",
     "iopub.status.idle": "2023-02-09T16:11:40.495382Z",
     "shell.execute_reply": "2023-02-09T16:11:40.494207Z",
     "shell.execute_reply.started": "2023-02-09T16:11:40.466033Z"
    }
   },
   "outputs": [
    {
     "data": {
      "text/html": [
       "<div>\n",
       "<style scoped>\n",
       "    .dataframe tbody tr th:only-of-type {\n",
       "        vertical-align: middle;\n",
       "    }\n",
       "\n",
       "    .dataframe tbody tr th {\n",
       "        vertical-align: top;\n",
       "    }\n",
       "\n",
       "    .dataframe thead th {\n",
       "        text-align: right;\n",
       "    }\n",
       "</style>\n",
       "<table border=\"1\" class=\"dataframe\">\n",
       "  <thead>\n",
       "    <tr style=\"text-align: right;\">\n",
       "      <th></th>\n",
       "      <th>Year</th>\n",
       "      <th>Selling_Price</th>\n",
       "      <th>Present_Price</th>\n",
       "      <th>Driven_kms</th>\n",
       "      <th>Fuel_Type</th>\n",
       "      <th>Selling_type</th>\n",
       "      <th>Transmission</th>\n",
       "      <th>Owner</th>\n",
       "      <th>Company Name</th>\n",
       "    </tr>\n",
       "  </thead>\n",
       "  <tbody>\n",
       "    <tr>\n",
       "      <th>237</th>\n",
       "      <td>2015</td>\n",
       "      <td>11.25</td>\n",
       "      <td>13.60</td>\n",
       "      <td>68000</td>\n",
       "      <td>Diesel</td>\n",
       "      <td>Dealer</td>\n",
       "      <td>Manual</td>\n",
       "      <td>0</td>\n",
       "      <td>creta</td>\n",
       "    </tr>\n",
       "    <tr>\n",
       "      <th>274</th>\n",
       "      <td>2014</td>\n",
       "      <td>5.30</td>\n",
       "      <td>6.80</td>\n",
       "      <td>16500</td>\n",
       "      <td>Petrol</td>\n",
       "      <td>Dealer</td>\n",
       "      <td>Manual</td>\n",
       "      <td>0</td>\n",
       "      <td>brio</td>\n",
       "    </tr>\n",
       "    <tr>\n",
       "      <th>236</th>\n",
       "      <td>2016</td>\n",
       "      <td>3.10</td>\n",
       "      <td>4.43</td>\n",
       "      <td>11849</td>\n",
       "      <td>Petrol</td>\n",
       "      <td>Dealer</td>\n",
       "      <td>Manual</td>\n",
       "      <td>0</td>\n",
       "      <td>eon</td>\n",
       "    </tr>\n",
       "    <tr>\n",
       "      <th>68</th>\n",
       "      <td>2011</td>\n",
       "      <td>4.35</td>\n",
       "      <td>13.74</td>\n",
       "      <td>88000</td>\n",
       "      <td>Petrol</td>\n",
       "      <td>Dealer</td>\n",
       "      <td>Manual</td>\n",
       "      <td>0</td>\n",
       "      <td>corolla</td>\n",
       "    </tr>\n",
       "    <tr>\n",
       "      <th>38</th>\n",
       "      <td>2016</td>\n",
       "      <td>3.00</td>\n",
       "      <td>3.76</td>\n",
       "      <td>10079</td>\n",
       "      <td>Petrol</td>\n",
       "      <td>Dealer</td>\n",
       "      <td>Manual</td>\n",
       "      <td>0</td>\n",
       "      <td>alto</td>\n",
       "    </tr>\n",
       "  </tbody>\n",
       "</table>\n",
       "</div>"
      ],
      "text/plain": [
       "     Year  Selling_Price  Present_Price  Driven_kms Fuel_Type Selling_type  \\\n",
       "237  2015          11.25          13.60       68000    Diesel       Dealer   \n",
       "274  2014           5.30           6.80       16500    Petrol       Dealer   \n",
       "236  2016           3.10           4.43       11849    Petrol       Dealer   \n",
       "68   2011           4.35          13.74       88000    Petrol       Dealer   \n",
       "38   2016           3.00           3.76       10079    Petrol       Dealer   \n",
       "\n",
       "    Transmission  Owner Company Name  \n",
       "237       Manual      0        creta  \n",
       "274       Manual      0         brio  \n",
       "236       Manual      0          eon  \n",
       "68        Manual      0      corolla  \n",
       "38        Manual      0         alto  "
      ]
     },
     "execution_count": 19,
     "metadata": {},
     "output_type": "execute_result"
    }
   ],
   "source": [
    "data1.sample(5)"
   ]
  },
  {
   "cell_type": "markdown",
   "metadata": {},
   "source": [
    "# Data visualization"
   ]
  },
  {
   "cell_type": "code",
   "execution_count": 23,
   "metadata": {
    "execution": {
     "iopub.execute_input": "2023-02-09T16:12:54.268711Z",
     "iopub.status.busy": "2023-02-09T16:12:54.268216Z",
     "iopub.status.idle": "2023-02-09T16:12:54.672668Z",
     "shell.execute_reply": "2023-02-09T16:12:54.671201Z",
     "shell.execute_reply.started": "2023-02-09T16:12:54.268658Z"
    }
   },
   "outputs": [
    {
     "data": {
      "image/png": "[encoded data removed]",
      "text/plain": [
       "<Figure size 2000x600 with 2 Axes>"
      ]
     },
     "metadata": {},
     "output_type": "display_data"
    }
   ],
   "source": [
    "plt.figure(figsize=(20, 6))\n",
    "plt.subplot(2, 2, 1)\n",
    "plt1 = sns.countplot(x='Company Name', data=data1)\n",
    "plt.title('Companies')\n",
    "ax1 = plt.gca()  # Get the current axis\n",
    "ax1.tick_params(axis='x', labelrotation=45)\n",
    "plt.subplot(2, 2, 2)\n",
    "plt2 = sns.countplot(x='Fuel_Type', data=data1)\n",
    "plt.title('Fuel Types')\n",
    "ax2 = plt.gca()  # Get the current axis\n",
    "ax2.tick_params(axis='x', labelrotation=45)\n",
    "# You can continue adding more subplots as needed\n",
    "plt.show()"
   ]
  },
  {
   "cell_type": "code",
   "execution_count": 32,
   "metadata": {
    "execution": {
     "iopub.execute_input": "2023-02-09T16:13:10.648877Z",
     "iopub.status.busy": "2023-02-09T16:13:10.647804Z",
     "iopub.status.idle": "2023-02-09T16:13:11.073110Z",
     "shell.execute_reply": "2023-02-09T16:13:11.072203Z",
     "shell.execute_reply.started": "2023-02-09T16:13:10.648835Z"
    }
   },
   "outputs": [
    {
     "data": {
      "image/png": "[encoded data removed]",
      "text/plain": [
       "<Figure size 1200x500 with 2 Axes>"
      ]
     },
     "metadata": {},
     "output_type": "display_data"
    }
   ],
   "source": [
    "plt.figure(figsize=(12, 5))\n",
    "\n",
    "plt.subplot(1, 2, 1)\n",
    "data1.groupby('Company Name').mean()['Present_Price'].sort_values().plot(kind='bar')\n",
    "plt.title('Mean Prices by Company')\n",
    "plt.xlabel('Company Name')\n",
    "plt.ylabel('Mean Price')\n",
    "\n",
    "plt.subplot(1, 2, 2)\n",
    "sns.boxplot(x='Present_Price', data=data1)\n",
    "plt.title('Price Distribution')\n",
    "plt.xlabel('Price')\n",
    "\n",
    "plt.show()\n"
   ]
  },
  {
   "cell_type": "code",
   "execution_count": null,
   "metadata": {},
   "outputs": [],
   "source": []
  }
 ],
 "metadata": {
  "kernelspec": {
   "display_name": "Python 3 (ipykernel)",
   "language": "python",
   "name": "python3"
  },
  "language_info": {
   "codemirror_mode": {
    "name": "ipython",
    "version": 3
   },
   "file_extension": ".py",
   "mimetype": "text/x-python",
   "name": "python",
   "nbconvert_exporter": "python",
   "pygments_lexer": "ipython3",
   "version": "3.11.4"
  }
 },
 "nbformat": 4,
 "nbformat_minor": 4
}
